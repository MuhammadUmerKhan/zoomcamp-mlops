{
 "cells": [
  {
   "cell_type": "code",
   "execution_count": 1,
   "metadata": {},
   "outputs": [],
   "source": [
    "from mlflow.tracking import MlflowClient\n",
    "from mlflow.entities import ViewType\n",
    "import mlflow\n",
    "from sklearn.metrics import mean_squared_error\n",
    "import pandas as pd"
   ]
  },
  {
   "cell_type": "markdown",
   "metadata": {},
   "source": [
    "### Interacting with the MLflow tracking server\n",
    "The MlflowClient object allows us to interact with...\n",
    "\n",
    "- an MLflow Tracking Server that creates and manages experiments and runs.\n",
    "- an MLflow Registry Server that creates and manages registered models and model versions.\n",
    "- To instantiate it we need to pass a tracking URI and/or a registry URI"
   ]
  },
  {
   "cell_type": "code",
   "execution_count": 2,
   "metadata": {},
   "outputs": [],
   "source": [
    "MLFLOW_TRACKING_URI = \"sqlite:///mlflow.db\""
   ]
  },
  {
   "cell_type": "code",
   "execution_count": 3,
   "metadata": {},
   "outputs": [],
   "source": [
    "client = MlflowClient(tracking_uri=MLFLOW_TRACKING_URI)"
   ]
  },
  {
   "cell_type": "code",
   "execution_count": 6,
   "metadata": {},
   "outputs": [
    {
     "name": "stdout",
     "output_type": "stream",
     "text": [
      "Created Experiment ID: 2\n"
     ]
    }
   ],
   "source": [
    "experiment_name = \"nyc-experiment-2\"\n",
    "experiment_id = client.create_experiment(experiment_name)\n",
    "print(f\"Created Experiment ID: {experiment_id}\")"
   ]
  },
  {
   "cell_type": "code",
   "execution_count": 7,
   "metadata": {},
   "outputs": [],
   "source": [
    "existing_experiment = client.get_experiment_by_name(experiment_name)\n",
    "if existing_experiment:\n",
    "    experiment_id = existing_experiment.experiment_id\n",
    "else:\n",
    "    experiment_id = client.create_experiment(experiment_name)"
   ]
  },
  {
   "cell_type": "markdown",
   "metadata": {},
   "source": [
    "Let's check the latest versions for the experiment with id 1...\n"
   ]
  },
  {
   "cell_type": "code",
   "execution_count": 9,
   "metadata": {},
   "outputs": [],
   "source": [
    "runs = client.search_runs(\n",
    "    experiment_ids='1',\n",
    "    filter_string=\"metrics.rmse < 7\",\n",
    "    run_view_type=ViewType.ACTIVE_ONLY,\n",
    "    max_results=5,\n",
    "    order_by=['metrics.rmse ASC']\n",
    ")"
   ]
  },
  {
   "cell_type": "code",
   "execution_count": 10,
   "metadata": {},
   "outputs": [
    {
     "name": "stdout",
     "output_type": "stream",
     "text": [
      "run id: 268cade8ecf94c5fb545b89be0b77331, rmse: 5.2205\n",
      "run id: d01ddde800f041988f7ee9e60baad470, rmse: 5.2231\n",
      "run id: 14d84639141a4b2aa7ec0f53cfefecd0, rmse: 5.2298\n",
      "run id: a95bdbaab65145888cd0a10ba7002285, rmse: 5.2374\n",
      "run id: 2edd066541ca4724af9669e60872c7d5, rmse: 5.2398\n"
     ]
    }
   ],
   "source": [
    "for run in runs:\n",
    "    print(f\"run id: {run.info.run_id}, rmse: {run.data.metrics['rmse']:.4f}\")"
   ]
  },
  {
   "cell_type": "markdown",
   "metadata": {},
   "source": [
    "### Interacting with the Model Registry\n",
    "In this section We will use the MlflowClient instance to:\n",
    "\n",
    "1. Register a new version for the experiment nyc-taxi-regressor\n",
    "2. Retrieve the latests versions of the model nyc-taxi-regressor and check that a new version 4 was created.\n",
    "3. Transition the version 4 to \"Staging\" and adding annotations to it."
   ]
  },
  {
   "cell_type": "code",
   "execution_count": 12,
   "metadata": {},
   "outputs": [],
   "source": [
    "mlflow.set_tracking_uri(MLFLOW_TRACKING_URI)"
   ]
  },
  {
   "cell_type": "code",
   "execution_count": 14,
   "metadata": {},
   "outputs": [
    {
     "name": "stderr",
     "output_type": "stream",
     "text": [
      "Registered model 'NYC-Taxi-Regressor' already exists. Creating a new version of this model...\n",
      "Created version '2' of model 'NYC-Taxi-Regressor'.\n"
     ]
    },
    {
     "data": {
      "text/plain": [
       "<ModelVersion: aliases=[], creation_timestamp=1742153779173, current_stage='None', description=None, last_updated_timestamp=1742153779173, name='NYC-Taxi-Regressor', run_id='268cade8ecf94c5fb545b89be0b77331', run_link=None, source='/home/muhammad/zoomcamp-mlops/02-experiment_tracking/mlruns/1/268cade8ecf94c5fb545b89be0b77331/artifacts/model', status='READY', status_message=None, tags={}, user_id=None, version=2>"
      ]
     },
     "execution_count": 14,
     "metadata": {},
     "output_type": "execute_result"
    }
   ],
   "source": [
    "run_id = \"268cade8ecf94c5fb545b89be0b77331\"\n",
    "model_uri = f\"runs:/{run_id}/model\"\n",
    "mlflow.register_model(model_uri=model_uri, name=\"NYC-Taxi-Regressor\")"
   ]
  },
  {
   "cell_type": "markdown",
   "metadata": {},
   "source": [
    "Register a Model & Assign an Alias"
   ]
  },
  {
   "cell_type": "code",
   "execution_count": 21,
   "metadata": {},
   "outputs": [
    {
     "name": "stdout",
     "output_type": "stream",
     "text": [
      "Model 'xgboost_model' registered successfully.\n"
     ]
    }
   ],
   "source": [
    "model_name = \"xgboost_model\"\n",
    "\n",
    "# Register the model name\n",
    "try:\n",
    "    client.create_registered_model(model_name)\n",
    "    print(f\"Model '{model_name}' registered successfully.\")\n",
    "except Exception as e:\n",
    "    print(f\"Model '{model_name}' might already exist. Error: {e}\")"
   ]
  },
  {
   "cell_type": "code",
   "execution_count": 22,
   "metadata": {},
   "outputs": [
    {
     "name": "stdout",
     "output_type": "stream",
     "text": [
      "Model 'xgboost_model' registered as version 1\n"
     ]
    }
   ],
   "source": [
    "# Define model URI (ensure the model is saved)\n",
    "model_uri = f\"runs:/{run.info.run_id}/model\"\n",
    "\n",
    "# Create a new model version\n",
    "model_version = client.create_model_version(name=model_name, source=model_uri, run_id=run.info.run_id)\n",
    "\n",
    "print(f\"Model '{model_name}' registered as version {model_version.version}\")"
   ]
  },
  {
   "cell_type": "code",
   "execution_count": 23,
   "metadata": {},
   "outputs": [
    {
     "name": "stdout",
     "output_type": "stream",
     "text": [
      "Model registered as version 1 with alias 'production'\n"
     ]
    }
   ],
   "source": [
    "client.set_registered_model_alias(model_name, \"staging\", model_version.version)\n",
    "print(f\"Model registered as version {model_version.version} with alias 'production'\")"
   ]
  }
 ],
 "metadata": {
  "kernelspec": {
   "display_name": "env",
   "language": "python",
   "name": "python3"
  },
  "language_info": {
   "codemirror_mode": {
    "name": "ipython",
    "version": 3
   },
   "file_extension": ".py",
   "mimetype": "text/x-python",
   "name": "python",
   "nbconvert_exporter": "python",
   "pygments_lexer": "ipython3",
   "version": "3.12.2"
  }
 },
 "nbformat": 4,
 "nbformat_minor": 2
}
